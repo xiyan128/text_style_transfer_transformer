{
 "cells": [
  {
   "cell_type": "code",
   "execution_count": 1,
   "outputs": [],
   "source": [
    "import pickle\n",
    "import pandas\n",
    "import numpy as np\n",
    "\n",
    "\n",
    "from transformers import T5Model, T5Tokenizer, AdamW\n",
    "import pandas as pd\n",
    "from torch.utils.data import Dataset , DataLoader\n",
    "import pytorch_lightning as pl\n",
    "from sklearn.model_selection import train_test_split"
   ],
   "metadata": {
    "collapsed": false,
    "pycharm": {
     "name": "#%%\n"
    }
   }
  },
  {
   "cell_type": "code",
   "execution_count": 2,
   "outputs": [],
   "source": [
    "romantic_fileList = []\n",
    "with open(\"../data/humor_train.p\", mode=\"rb\") as f:\n",
    "    romantic_fileList = pickle.load(f)\n",
    "humor_fileList = []\n",
    "with open(\"../data/humor_train.p\", mode=\"rb\") as f:\n",
    "    humor_fileList = pickle.load(f)\n",
    "romantic_captions = []"
   ],
   "metadata": {
    "collapsed": false,
    "pycharm": {
     "name": "#%%\n"
    }
   }
  },
  {
   "cell_type": "code",
   "execution_count": 3,
   "outputs": [
    {
     "data": {
      "text/plain": "                                                                    sentence\nid                                                                          \n1000268201_693b08cb0e.jpg  A child in a pink dress is climbing up a set o...\n1001773457_577c3a7d70.jpg         A black dog and a spotted dog are fighting\n1002674143_1b742ab4b8.jpg  A little girl covered in paint sits in front o...\n1003163366_44323f5815.jpg  A man lays on a bench while his dog sits by him .\n1007129816_e794419615.jpg     A man in an orange hat starring at something .\n...                                                                      ...\n990890291_afc72be141.jpg   A man does a wheelie on his bicycle on the sid...\n99171998_7cc800ceef.jpg         A group is sitting around a snowy crevasse .\n99679241_adc853a5c0.jpg    A grey bird stands majestically on a beach whi...\n997338199_7343367d7f.jpg                 A person stands near golden walls .\n997722733_0cb5439472.jpg            A man in a pink shirt climbs a rock face\n\n[8092 rows x 1 columns]",
      "text/html": "<div>\n<style scoped>\n    .dataframe tbody tr th:only-of-type {\n        vertical-align: middle;\n    }\n\n    .dataframe tbody tr th {\n        vertical-align: top;\n    }\n\n    .dataframe thead th {\n        text-align: right;\n    }\n</style>\n<table border=\"1\" class=\"dataframe\">\n  <thead>\n    <tr style=\"text-align: right;\">\n      <th></th>\n      <th>sentence</th>\n    </tr>\n    <tr>\n      <th>id</th>\n      <th></th>\n    </tr>\n  </thead>\n  <tbody>\n    <tr>\n      <th>1000268201_693b08cb0e.jpg</th>\n      <td>A child in a pink dress is climbing up a set o...</td>\n    </tr>\n    <tr>\n      <th>1001773457_577c3a7d70.jpg</th>\n      <td>A black dog and a spotted dog are fighting</td>\n    </tr>\n    <tr>\n      <th>1002674143_1b742ab4b8.jpg</th>\n      <td>A little girl covered in paint sits in front o...</td>\n    </tr>\n    <tr>\n      <th>1003163366_44323f5815.jpg</th>\n      <td>A man lays on a bench while his dog sits by him .</td>\n    </tr>\n    <tr>\n      <th>1007129816_e794419615.jpg</th>\n      <td>A man in an orange hat starring at something .</td>\n    </tr>\n    <tr>\n      <th>...</th>\n      <td>...</td>\n    </tr>\n    <tr>\n      <th>990890291_afc72be141.jpg</th>\n      <td>A man does a wheelie on his bicycle on the sid...</td>\n    </tr>\n    <tr>\n      <th>99171998_7cc800ceef.jpg</th>\n      <td>A group is sitting around a snowy crevasse .</td>\n    </tr>\n    <tr>\n      <th>99679241_adc853a5c0.jpg</th>\n      <td>A grey bird stands majestically on a beach whi...</td>\n    </tr>\n    <tr>\n      <th>997338199_7343367d7f.jpg</th>\n      <td>A person stands near golden walls .</td>\n    </tr>\n    <tr>\n      <th>997722733_0cb5439472.jpg</th>\n      <td>A man in a pink shirt climbs a rock face</td>\n    </tr>\n  </tbody>\n</table>\n<p>8092 rows × 1 columns</p>\n</div>"
     },
     "execution_count": 3,
     "metadata": {},
     "output_type": "execute_result"
    }
   ],
   "source": [
    "original_df = pandas.read_csv(\"../data/Flickr8k.token.txt\", sep=\"\\t\", header=None, names=[\"id\", \"sentence\"])\n",
    "original_df = original_df.assign(id=original_df.id.str.split(\"#\").str[0])\n",
    "# temporarily only use the first caption\n",
    "original_df = original_df.groupby(\"id\").agg(lambda x: x.iloc[0])\n",
    "original_df"
   ],
   "metadata": {
    "collapsed": false,
    "pycharm": {
     "name": "#%%\n"
    }
   }
  },
  {
   "cell_type": "code",
   "execution_count": 12,
   "outputs": [],
   "source": [
    "romantic_df = pandas.read_csv(\"../data/romantic_train.txt\", names=[\"sentence\"]).assign(id=romantic_fileList)\n",
    "humor_df = pandas.read_csv(\"../data/funny_train.txt\", names=[\"sentence\"]).assign(id=humor_fileList)\n",
    "original_df = original_df.merge(romantic_df, on=\"id\", how=\"right\", suffixes=[\"_original\", \"_romantic\"]).merge(humor_df, on=\"id\", how=\"right\")\n",
    "df = original_df.rename(columns={\"sentence\": \"sentence_humor\"})"
   ],
   "metadata": {
    "collapsed": false,
    "pycharm": {
     "name": "#%%\n"
    }
   }
  },
  {
   "cell_type": "code",
   "execution_count": 41,
   "outputs": [],
   "source": [
    "from transformers import T5ForConditionalGeneration\n",
    "\n",
    "t5 = T5ForConditionalGeneration.from_pretrained(\"t5-small\")\n",
    "tokenizer = T5Tokenizer.from_pretrained(\"t5-small\")"
   ],
   "metadata": {
    "collapsed": false,
    "pycharm": {
     "name": "#%%\n"
    }
   }
  },
  {
   "cell_type": "code",
   "execution_count": 42,
   "outputs": [],
   "source": [
    "class FlickrDataset(Dataset):\n",
    "    def __init__(self,original,romantic,humor):\n",
    "        self.original = original\n",
    "        self.humor = humor\n",
    "        self.romantic = romantic\n",
    "\n",
    "    def __len__(self):\n",
    "        return len(self.original)\n",
    "\n",
    "    def to_token(self,sentence):\n",
    "        return tokenizer.encode(sentence, max_length=30, truncation=True, padding=\"max_length\", return_tensors=\"pt\")\n",
    "\n",
    "    def __getitem__(self,index):\n",
    "        original_token = self.to_token(self.original.iloc[index])\n",
    "        humor_token = self.to_token(self.humor.iloc[index])\n",
    "        romantic_token = self.to_token(self.romantic.iloc[index])\n",
    "        return original_token, humor_token, romantic_token"
   ],
   "metadata": {
    "collapsed": false,
    "pycharm": {
     "name": "#%%\n"
    }
   }
  },
  {
   "cell_type": "code",
   "execution_count": 43,
   "outputs": [],
   "source": [
    "dataset = FlickrDataset(original_df.sentence_original,original_df.sentence_humor,original_df.sentence_romantic)"
   ],
   "metadata": {
    "collapsed": false,
    "pycharm": {
     "name": "#%%\n"
    }
   }
  },
  {
   "cell_type": "code",
   "execution_count": 65,
   "outputs": [],
   "source": [
    "train_dataset, val_dataset = train_test_split(df, test_size=0.2)\n",
    "batch_size = 32"
   ],
   "metadata": {
    "collapsed": false,
    "pycharm": {
     "name": "#%%\n"
    }
   }
  },
  {
   "cell_type": "code",
   "execution_count": 66,
   "outputs": [],
   "source": [
    "class FlickrDataModule(pl.LightningDataModule):\n",
    "    def __init__(self):\n",
    "        super().__init__()\n",
    "        self.train = FlickrDataset(train_dataset.sentence_original,train_dataset.sentence_humor,train_dataset.sentence_romantic)\n",
    "        self.test = FlickrDataset(val_dataset.sentence_original,val_dataset.sentence_humor,val_dataset.sentence_romantic)\n",
    "        self.val = FlickrDataset(val_dataset.sentence_original,val_dataset.sentence_humor,val_dataset.sentence_romantic)\n",
    "\n",
    "    def train_dataloader(self):\n",
    "        return DataLoader(self.train , batch_size = batch_size , shuffle = True)\n",
    "    def test_dataloader(self):\n",
    "        return DataLoader(self.test , batch_size = batch_size , shuffle = False)\n",
    "    def val_dataloader(self):\n",
    "        return DataLoader(self.val , batch_size = batch_size , shuffle = False)"
   ],
   "metadata": {
    "collapsed": false,
    "pycharm": {
     "name": "#%%\n"
    }
   }
  },
  {
   "cell_type": "code",
   "execution_count": 67,
   "outputs": [
    {
     "data": {
      "text/plain": "[tensor([[[   71,  4216,    11,   872,  2586,     3,  8623,    57,  3124,     3,\n               5,     1,     0,     0,     0,     0,     0,     0,     0,     0,\n               0,     0,     0,     0,     0,     0,     0,     0,     0,     0]],\n \n         [[ 5245,   803,   492,  8519,    21,     8,  1861,     3,     5,     1,\n               0,     0,     0,     0,     0,     0,     0,     0,     0,     0,\n               0,     0,     0,     0,     0,     0,     0,     0,     0,     0]],\n \n         [[   71,  4595,   221,    26,   388,    19,  4125,    57,     3,     9,\n            2309,  6998,  3609,    95,     3,     9, 21451,  1320,     3,     5,\n               1,     0,     0,     0,     0,     0,     0,     0,     0,     0]],\n \n         [[   71,  4940, 20584,     7,   112,   819,   190,     3,     9,  7445,\n            1554,     3,     5,     1,     0,     0,     0,     0,     0,     0,\n               0,     0,     0,     0,     0,     0,     0,     0,     0,     0]],\n \n         [[    3,     9,  1782,  1180,    30,     8,  2608,     1,     0,     0,\n               0,     0,     0,     0,     0,     0,     0,     0,     0,     0,\n               0,     0,     0,     0,     0,     0,     0,     0,     0,     0]],\n \n         [[   71,  3202,    16,     3,     9, 10540, 11028,    11,  1692,  8677,\n               3,   102,  7906,     7,  2400,   160,  1953,     3,     5,     1,\n               0,     0,     0,     0,     0,     0,     0,     0,     0,     0]],\n \n         [[   71,  7100,  8100,    52,  7923,    19,  5989,   190,   387,    28,\n               3,     9,  1131,    12,    63,    16,   165,  4247,     3,     5,\n               1,     0,     0,     0,     0,     0,     0,     0,     0,     0]],\n \n         [[   71,  3202,    16,     3,     9,  1131,    11,  1001,    90,    32,\n              17,   986,    28,   872,   913,    19,  4125,   416,    12,     3,\n               9,   388,    16,     3,     9,  2468,    11,     3,     9,     1]],\n \n         [[   71,  1288,    23,    15,     3,  9000,    12,  3579,     3,     9,\n            1996,   383,     3,     9, 10749,   467,     3,     5,     1,     0,\n               0,     0,     0,     0,     0,     0,     0,     0,     0,     0]],\n \n         [[   71,   563,    13,  2830, 21615,  3567,  3214,     3,     5,     1,\n               0,     0,     0,     0,     0,     0,     0,     0,     0,     0,\n               0,     0,     0,     0,     0,     0,     0,     0,     0,     0]],\n \n         [[   71,  1001,  1782, 15389,     7,     3,     9,  4216,  1782,    28,\n               3,     9,  4372,   190,     8,   387,     3,     5,     1,     0,\n               0,     0,     0,     0,     0,     0,     0,     0,     0,     0]],\n \n         [[   71,  8598,    52,     3,  2748,    53,    21,     3,     9,  1202,\n              16,    46,     3,     9,  4055,  4180,  3283,     3,     5,     1,\n               0,     0,     0,     0,     0,     0,     0,     0,     0,     0]],\n \n         [[   71,   600,     3,    17,   152,  1782,  3154,    30,  5956,    28,\n               3,     9,   600,  4372,    16,   112,  4247,     3,     5,     1,\n               0,     0,     0,     0,     0,     0,     0,     0,     0,     0]],\n \n         [[   71,   388,    16,     3,     9,  2537,  3737,  3827,    53,  3237,\n           13818, 11390,     7,    30,    80,  5210,   298,   271,  6756,    57,\n               3,     9, 13888,     3,     5,     1,     0,     0,     0,     0]],\n \n         [[ 2759,   502,    33,  4125,    30,     8, 10433,   416,    12,     3,\n               9,   643,    13,   387,     3,     5,     1,     0,     0,     0,\n               0,     0,     0,     0,     0,     0,     0,     0,     0,     0]],\n \n         [[   71,  4940,    11,     3,     9,  3202,    33,  4125,  1084,     8,\n             387,    30,     3,     9,  2608,     3,     5,     1,     0,     0,\n               0,     0,     0,     0,     0,     0,     0,     0,     0,     0]],\n \n         [[   71,  4940,     3, 20244,    30,   420,    13,     3,     9,  3202,\n              16,     3,     9,  1057,     3,     5,     1,     0,     0,     0,\n               0,     0,     0,     0,     0,     0,     0,     0,     0,     0]],\n \n         [[   71,  4216,  1782,    30,     8,  5956,   416,    12,     3,     9,\n               3,  7290,     3,     5,     1,     0,     0,     0,     0,     0,\n               0,     0,     0,     0,     0,     0,     0,     0,     0,     0]],\n \n         [[   71,  2335,  5024,    16,   851,    13,     3,     9,  1831,   495,\n              11,   430,  2335,  1416,    44,     3,     9,  1125,  1861,     1,\n               0,     0,     0,     0,     0,     0,     0,     0,     0,     0]],\n \n         [[    8,   192,  3567,    33,  6771,   633,     3, 18458,    12,    63,\n            3127,     3,     5,     1,     0,     0,     0,     0,     0,     0,\n               0,     0,     0,     0,     0,     0,     0,     0,     0,     0]],\n \n         [[   71,  4374,    13,   151,     3,  9094,   544,    11,    80,  2335,\n              19,  4125,    11,  3609,     3,     9,  1320,     3,     5,     1,\n               0,     0,     0,     0,     0,     0,     0,     0,     0,     0]],\n \n         [[   71,  1928,     3,     6,  5119,  8150,     3,  9955,     3,     6,\n              19,  1556,   723,    28,     3,     9,  7944,  1481,  1187,   135,\n               3,     5,     1,     0,     0,     0,     0,     0,     0,     0]],\n \n         [[   71,   388,  2480,  8147,     7,    28,     3,     9,   690,    11,\n             643,    13,   387,    16,     8,  2458,     3,     5,     1,     0,\n               0,     0,     0,     0,     0,     0,     0,     0,     0,     0]],\n \n         [[   37,  3202,    65,     3,     9,   872,  8677,    11,     3,     9,\n           11094,  2118,    16,   160,   609,     3,     5,     1,     0,     0,\n               0,     0,     0,     0,     0,     0,     0,     0,     0,     0]],\n \n         [[  389,  6578,  3202,  5119,     3,     9,   182, 10540,  3270,    19,\n            6771,     3,     9,  2343,  4119,     3,     5,     1,     0,     0,\n               0,     0,     0,     0,     0,     0,     0,     0,     0,     0]],\n \n         [[   71,   568,    16,     3,     9,   872,  8677, 10784,     3,     9,\n           16573,  1976,   323,     3,     9,   307,  6579,    16,     3,     9,\n           16573,  2447,     3,     5,     1,     0,     0,     0,     0,     0]],\n \n         [[ 5245, 24040,    29, 10211,   887,    33, 13205,    16,  2756,  5470,\n              11,  4216, 12754,    11,   819,  6541,   162,     7,     3,     5,\n               1,     0,     0,     0,     0,     0,     0,     0,     0,     0]],\n \n         [[   71,   563,    13,  1076,    33,  4125,    30,     3,     9,  9980,\n            1373,  7096,     7,    17,    80,   388,  1780,     3,     9,  1692,\n            1367,    12,   430,     3,     5,     1,     0,     0,     0,     0]],\n \n         [[   71,   388,    16,     3,     9,  1001,    62,    17,  7628,    19,\n           21061,    16,     8,  5431,     3,     5,     1,     0,     0,     0,\n               0,     0,     0,     0,     0,     0,     0,     0,     0,     0]],\n \n         [[  502,   479,   190, 13254,    79,    43, 23166,   139, 17927,     1,\n               0,     0,     0,     0,     0,     0,     0,     0,     0,     0,\n               0,     0,     0,     0,     0,     0,     0,     0,     0,     0]],\n \n         [[   71,  3202,    16,     3,     9,  4459,  3827,    53,  3237,    45,\n               3,     9,     3, 12591,  1416,    44,     3,     9,   568,    16,\n               8,   387,     3,     5,     1,     0,     0,     0,     0,     0]],\n \n         [[   71,   563,    13,  3413,    33,  1556, 10749,    30,     8,  2608,\n               3,     5,     1,     0,     0,     0,     0,     0,     0,     0,\n               0,     0,     0,     0,     0,     0,     0,     0,     0,     0]]]),\n tensor([[[    3,     9,  1782,  4125,  1067,    19,  9865,   120,   479,    44,\n               8,  1861,     3,     5,     1,     0,     0,     0,     0,     0,\n               0,     0,     0,     0,     0,     0,     0,     0,     0,     0]],\n \n         [[  386,  1021,  3513,  7663,    21,     8,  1861,    12,  4036,     8,\n            9888,     5,     1,     0,     0,     0,     0,     0,     0,     0,\n               0,     0,     0,     0,     0,     0,     0,     0,     0,     0]],\n \n         [[    3,     9, 15876,   388,  3609,     3,     9,  1320,  1545,    30,\n           21451,     1,     0,     0,     0,     0,     0,     0,     0,     0,\n               0,     0,     0,     0,     0,     0,     0,     0,     0,     0]],\n \n         [[  385,  4940,    28,   522,  1096,     3,     9,  7445, 13790,     1,\n               0,     0,     0,     0,     0,     0,     0,     0,     0,     0,\n               0,     0,     0,     0,     0,     0,     0,     0,     0,     0]],\n \n         [[    3,     9,  1782,  3154,   640,     3,     7,   232,    12,   942,\n             112,  2527,     3,     5,     1,     0,     0,     0,     0,     0,\n               0,     0,     0,     0,     0,     0,     0,     0,     0,     0]],\n \n         [[ 2335,    16,  1249,  9910, 11028,   799, 12940,   756,     3,     9,\n            1953,    28,     3,     9,  1249,  9910,  8326,   102,  5236,     1,\n               0,     0,     0,     0,     0,     0,     0,     0,     0,     0]],\n \n         [[  872,  1782,  5989,   298,  3609,  5470,    12,    63,    16,  4247,\n              12,     7,  2260,  1996,    12, 17040,     3,     5,     1,     0,\n               0,     0,     0,     0,     0,     0,     0,     0,     0,     0]],\n \n         [[  192, 27363,  2250,  7663,  5250,   120,    28,    46,  2787,   388,\n             365,    46, 18598,     3,     5,     1,     0,     0,     0,     0,\n               0,     0,     0,     0,     0,     0,     0,     0,     0,     0]],\n \n         [[    3,     9,  1288,    23,    15,     3,  9000,    12,  3579,     3,\n               9,  1996,   383,     3,     9, 10749,   467,    28,   112,   803,\n               3,     5,     1,     0,     0,     0,     0,     0,     0,     0]],\n \n         [[    3,     9,   563,    13,  2164,    18, 19176,    15,    26,  3567,\n              33,  3214,   544,     1,     0,     0,     0,     0,     0,     0,\n               0,     0,     0,     0,     0,     0,     0,     0,     0,     0]],\n \n         [[  192,  3887,    16,   333,    33,  1556,    28,     3,     9,  4372,\n              16,     8,   387,     3,     5,     1,     0,     0,     0,     0,\n               0,     0,     0,     0,     0,     0,     0,     0,     0,     0]],\n \n         [[    3,     9,  8598,    52,     3,  2748,    53,    21,     3,     9,\n            1202,    16,     3,     9,  4180,  3283, 11908,    12,     8,  1992,\n               3,     5,     1,     0,     0,     0,     0,     0,     0,     0]],\n \n         [[    3,     9,  1782,  6771,     3,     9,   307,  4372,    16,   165,\n            4247,    19,    78,  2764,    13,   112, 14508,     3,     5,     1,\n               0,     0,     0,     0,     0,     0,     0,     0,     0,     0]],\n \n         [[    3,     9,   388,    19,   692,     3,     9,  4418,    30,     3,\n               9,  7178,  1976,    16,     8,   387,     3,   117,     3,     9,\n            2600,     3,    88,  5682,     3,     5,     1,     0,     0,     0]],\n \n         [[  192,   502,  1518,    28,     3,     9,  3134,    57,     3,     9,\n           16906, 10433,     1,     0,     0,     0,     0,     0,     0,     0,\n               0,     0,     0,     0,     0,     0,     0,     0,     0,     0]],\n \n         [[    3,     9,  4940,    11,     3,     9,  3202,    33,  4125,  1084,\n               8,   387,    30,     3,     9,  2608,    16,     3,     9,  2261,\n            6526,   823,    12,  3993,    42,    59,     3,     5,     1,     0]],\n \n         [[    3,     9,  4940,     3, 20244,    30,   420,    13,     3,     9,\n            3202,    16,     3,     9,  1057,    12,   473,   885,    12,   160,\n             842,     3,     5,     1,     0,     0,     0,     0,     0,     0]],\n \n         [[    3,     9,  4216,  1782,    16,     3,     9,  1692,  6177,  1556,\n              16,     8,  1057,    57,     8,     3,  7290,     3,     5,     1,\n               0,     0,     0,     0,     0,     0,     0,     0,     0,     0]],\n \n         [[ 2759,  2335,  7663,    21,     8,  1861,     1,     0,     0,     0,\n               0,     0,     0,     0,     0,     0,     0,     0,     0,     0,\n               0,     0,     0,     0,     0,     0,     0,     0,     0,     0]],\n \n         [[    8,   192,  3567,    33, 26128,   120,  6771,   633,     3, 18458,\n              12,    63,  3127,     3,     5,     1,     0,     0,     0,     0,\n               0,     0,     0,     0,     0,     0,     0,     0,     0,     0]],\n \n         [[    3,     9,   563,    13,  2675,  7479,    21,   128,   686,    13,\n             605,   298,   271,    28,    70,  2397,     3,     5,     1,     0,\n               0,     0,     0,     0,     0,     0,     0,     0,     0,     0]],\n \n         [[  662,  1928,   724,    33,  8782,    11,  1556,    12, 18514,  2335,\n              15,     3,     5,     1,     0,     0,     0,     0,     0,     0,\n               0,     0,     0,     0,     0,     0,     0,     0,     0,     0]],\n \n         [[    3,     9,  2480,  8147,    49,     3,  9033,     7,    12,   320,\n              91,   147,     8,  5431,     1,     0,     0,     0,     0,     0,\n               0,     0,     0,     0,     0,     0,     0,     0,     0,     0]],\n \n         [[    8,  9360,    19,  3609,     3,     9, 11094, 13356,    38,   255,\n            2347,   160,   384,     3,    31,     7,  3474,    30,   160,  5336,\n               3,     5,     1,     0,     0,     0,     0,     0,     0,     0]],\n \n         [[    3,     9,  1021,  2335,  5119,     3,     9,  3270,  9650,    12,\n             160, 17040,     3,     5,     1,     0,     0,     0,     0,     0,\n               0,     0,     0,     0,     0,     0,     0,     0,     0,     0]],\n \n         [[    3,     9, 16573,  1976,    49, 14432,   323,     3,     9,  6579,\n               1,     0,     0,     0,     0,     0,     0,     0,     0,     0,\n               0,     0,     0,     0,     0,     0,     0,     0,     0,     0]],\n \n         [[  386,  2335,  5119,  1435, 15885,     7,     1,     0,     0,     0,\n               0,     0,     0,     0,     0,     0,     0,     0,     0,     0,\n               0,     0,     0,     0,     0,     0,     0,     0,     0,     0]],\n \n         [[    3,     9,   388,    19,   609,    53,     3,     9,  1367,    12,\n             430,   388,    16,     3,     9,   563,   113,    19,   182,  9865,\n               3,     5,     1,     0,     0,     0,     0,     0,     0,     0]],\n \n         [[    3,     9,   388,    16,     3,     9,    62,    17,  7628, 21061,\n           24025,    53,     8, 10505,    13,     8,  9866,     3,     5,     1,\n               0,     0,     0,     0,     0,     0,     0,     0,     0,     0]],\n \n         [[  502,   479,   190, 13254,    79,    43, 23166,   139, 17927, 17582,\n              79,     3,     9, 27480,     7,     3,     5,     1,     0,     0,\n               0,     0,     0,     0,     0,     0,     0,     0,     0,     0]],\n \n         [[   62,    17,  3202,  1416,   147,     3, 12591,     1,     0,     0,\n               0,     0,     0,     0,     0,     0,     0,     0,     0,     0,\n               0,     0,     0,     0,     0,     0,     0,     0,     0,     0]],\n \n         [[  192,  1021,  1076,   577, 10749,    30,     8,  2608,   240,     8,\n             166,  2245,    12,  2213,  5012,     3,     5,     1,     0,     0,\n               0,     0,     0,     0,     0,     0,     0,     0,     0,     0]]]),\n tensor([[[    3,     9,     3,    17,   152,    11,   872,  1782,  4125,  1084,\n            1442,  2677, 10882, 11035,     3,     5,     1,     0,     0,     0,\n               0,     0,     0,     0,     0,     0,     0,     0,     0,     0]],\n \n         [[  386,   151,     3,  2748,    53,    21,  1554,    28,    80,   388,\n            1517, 17387,    53,   522,    12,  1861,   348,     3,     5,     1,\n               0,     0,     0,     0,     0,     0,     0,     0,     0,     0]],\n \n         [[15876,   388,     3, 31518,    21,   540,   338, 28845,  1320,     1,\n               0,     0,     0,     0,     0,     0,     0,     0,     0,     0,\n               0,     0,     0,     0,     0,     0,     0,     0,     0,     0]],\n \n         [[    3,     9,   861, 15968,   441,     3,     9, 17812, 13790,   819,\n             479,   114,     3,  9325,     3, 11049,   195,  6029,     3,     5,\n               1,     0,     0,     0,     0,     0,     0,     0,     0,     0]],\n \n         [[    3,     9,  1782, 10681,    30,     8,  2608,  4549,    21, 12432,\n               3,     5,     1,     0,     0,     0,     0,     0,     0,     0,\n               0,     0,     0,     0,     0,     0,     0,     0,     0,     0]],\n \n         [[    3,     9,  3202,    16,     3,     9, 10540, 11028,    11,  1692,\n            8677,     3,   102,  7906,     7,  2400,   160,  1953,   114,     3,\n               9,  1712,     3,     5,     1,     0,     0,     0,     0,     0]],\n \n         [[    3,     9,  4459,  1782,    19,  5989,   190,     8,   387,  1556,\n              28,   112,  2527,     3,     5,     1,     0,     0,     0,     0,\n               0,     0,     0,     0,     0,     0,     0,     0,     0,     0]],\n \n         [[    3,     9,   388,    28,   192,  3567,  3270,    26,    16,  4095,\n            7117,     7,     1,     0,     0,     0,     0,     0,     0,     0,\n               0,     0,     0,     0,     0,     0,     0,     0,     0,     0]],\n \n         [[ 3370,   277,    33, 14667,   265,  7428,  5875,   300,     8,  1288,\n              38,     8,  1288,     3, 10477,     3, 12763,     8,  1996,     3,\n               5,     1,     0,     0,     0,     0,     0,     0,     0,     0]],\n \n         [[  662,  3567,    33,  3214,   190,     3,     9, 17596,   562,  1065,\n              12,  1912,     3,     9,   387, 22201,     3,     5,     1,     0,\n               0,     0,     0,     0,     0,     0,     0,     0,     0,     0]],\n \n         [[  192,  3887,  1180,   190,   387,    28,  4372,  6237,    21, 15859,\n            4710,     3,     5,     1,     0,     0,     0,     0,     0,     0,\n               0,     0,     0,     0,     0,     0,     0,     0,     0,     0]],\n \n         [[    3,     9,   388,    16,     3,     9,  1442,     3,   547,  4125,\n              30,     3,     9, 13150,    16,    45,    13,     3,     9,  4180,\n               3,  4774,   627,  1922,  5065,     3,     5,     1,     0,     0]],\n \n         [[    3,     9,  1782,  3154,  2957,     8,  1861,   114,  5827, 11406,\n             102,     3,     5,     1,     0,     0,     0,     0,     0,     0,\n               0,     0,     0,     0,     0,     0,     0,     0,     0,     0]],\n \n         [[    3,     9,   388,    19,   387,  3042,    89,    53,    16,  2076,\n            2256,  1084,     3,     9, 12908,     3,     5,     1,     0,     0,\n               0,     0,     0,     0,     0,     0,     0,     0,     0,     0]],\n \n         [[  192,  1082,    30,     8,  2608,     1,     0,     0,     0,     0,\n               0,     0,     0,     0,     0,     0,     0,     0,     0,     0,\n               0,     0,     0,     0,     0,     0,     0,     0,     0,     0]],\n \n         [[    3,     9,  3202,    16,     3,     9,     3,   547,    11,     3,\n               9,  4940,  4125,    30,     8, 10433,     1,     0,     0,     0,\n               0,     0,     0,     0,     0,     0,     0,     0,     0,     0]],\n \n         [[  192,   151,     3, 14720,   323,    11, 17387,    53,    30,  5956,\n              63,  8652,    43,  1953, 14588,     7,     3,     5,     1,     0,\n               0,     0,     0,     0,     0,     0,     0,     0,     0,     0]],\n \n         [[    3,     9,  1782,  5119,  1692, 13756,    19,  1180,    30,     8,\n            5956,    12,   960,    13, 12432,     3,     5,     3,     5,     1,\n               0,     0,     0,     0,     0,     0,     0,     0,     0,     0]],\n \n         [[    3,     9,  2335,  5024,    16,     3,     9,  1078,   298,   430,\n            4532,     3,     9,  1861,     1,     0,     0,     0,     0,     0,\n               0,     0,     0,     0,     0,     0,     0,     0,     0,     0]],\n \n         [[  192,  3567,  1749,    30,     3,     9, 27094,  3609,   633,     3,\n           18458,  3127,    12,  3827,   135,     3,     5,     1,     0,     0,\n               0,     0,     0,     0,     0,     0,     0,     0,     0,     0]],\n \n         [[ 1021,  2335,  4125,   756,     3,     9,  4374,     1,     0,     0,\n               0,     0,     0,     0,     0,     0,     0,     0,     0,     0,\n               0,     0,     0,     0,     0,     0,     0,     0,     0,     0]],\n \n         [[  563,    13,  1076, 10159,    11,   577,  7778,    12,   151,   113,\n              43,  1943,   631,     3,     5,     1,     0,     0,     0,     0,\n               0,     0,     0,     0,     0,     0,     0,     0,     0,     0]],\n \n         [[    3,     9,   388,  2480,  8147,     7,   274,   271,  1026,    57,\n               3,     9,   384,    13,     3,    15,     9,  3537,     7,     3,\n               5,     1,     0,     0,     0,     0,     0,     0,     0,     0]],\n \n         [[  192,  2335,  1518,   544,    11,    80,  4532,     3,     9, 11094,\n           10366,    12,    36,  1633,     3,     5,     1,     0,     0,     0,\n               0,     0,     0,     0,     0,     0,     0,     0,     0,     0]],\n \n         [[   46,     3,     9, 10488,  3202,    19,  6771,     3,     9,  2343,\n            4119,   479,    21, 23004,  2157,   281,     3,     5,     1,     0,\n               0,     0,     0,     0,     0,     0,     0,     0,     0,     0]],\n \n         [[    3,     9, 16573,  1976,    49, 20743,     7,   323,     3,     9,\n             307,  6579,   298, 10410,     3,     5,     1,     0,     0,     0,\n               0,     0,     0,     0,     0,     0,     0,     0,     0,     0]],\n \n         [[  887, 13205,    16, 12754,    11,  6541,   162,     7,  1482,    16,\n            8196, 21904,    53,   147,  9360,    16,   851,     3,     5,     1,\n               0,     0,     0,     0,     0,     0,     0,     0,     0,     0]],\n \n         [[   46,   625,  1001,   388,  1527,     3,     9,   422,  1692,  3735,\n              12,     3,     9,   563,    13,  5868,  1001,  1076,     1,     0,\n               0,     0,     0,     0,     0,     0,     0,     0,     0,     0]],\n \n         [[    3,     9,   388,    16,     3,     9,    62,    17,  7628,    30,\n               3,     9, 12245,  1976,     1,     0,     0,     0,     0,     0,\n               0,     0,     0,     0,     0,     0,     0,     0,     0,     0]],\n \n         [[  662,   502,   479,   190,     3, 10671,    95, 22848,     7,   224,\n              38,  2701,    32,  4866,     3,     5,     1,     0,     0,     0,\n               0,     0,     0,     0,     0,     0,     0,     0,     0,     0]],\n \n         [[    3,     9,  3202,    16,     3,     9,  4459,  3827,    53,  3237,\n            5024, 11207,    30,     3,     9,  2480,   147,     3,     9,   643,\n              13,   387,     3,     5,     1,     0,     0,     0,     0,     0]],\n \n         [[  633,   151,    30,     3,     9,  2608,     1,     0,     0,     0,\n               0,     0,     0,     0,     0,     0,     0,     0,     0,     0,\n               0,     0,     0,     0,     0,     0,     0,     0,     0,     0]]])]"
     },
     "execution_count": 67,
     "metadata": {},
     "output_type": "execute_result"
    }
   ],
   "source": [
    "next(iter(FlickrDataModule().train_dataloader()))"
   ],
   "metadata": {
    "collapsed": false,
    "pycharm": {
     "name": "#%%\n"
    }
   }
  },
  {
   "cell_type": "code",
   "execution_count": 86,
   "outputs": [],
   "source": [
    "class StyleTransferModel(pl.LightningModule):\n",
    "    def __init__(self):\n",
    "        super().__init__()\n",
    "        t5.train()\n",
    "        self.neural_net = t5\n",
    "\n",
    "    def forward(self, original, transferred):\n",
    "        original = original.reshape(batch_size, -1)\n",
    "        transferred = transferred.reshape(batch_size, -1)\n",
    "        return self.neural_net(input_ids=original, labels=transferred)\n",
    "\n",
    "    def configure_optimizers(self):\n",
    "        return AdamW(self.parameters(), 1e-4)\n",
    "\n",
    "    def training_step(self,batch,batch_idx):\n",
    "        original, transferred = batch[0], batch[1]\n",
    "        output = self(original, transferred)\n",
    "        return output.loss\n",
    "\n",
    "    def test_step(self,batch,batch_idx):\n",
    "        original, transferred = batch[0], batch[1]\n",
    "        output = self(original, transferred)\n",
    "        return output.loss\n",
    "\n",
    "    def validation_step(self,batch,batch_idx):\n",
    "        original, transferred = batch[0], batch[1]\n",
    "        output = self(original, transferred)\n",
    "        return output.loss"
   ],
   "metadata": {
    "collapsed": false,
    "pycharm": {
     "name": "#%%\n"
    }
   }
  },
  {
   "cell_type": "code",
   "execution_count": 87,
   "outputs": [
    {
     "name": "stderr",
     "output_type": "stream",
     "text": [
      "GPU available: False, used: False\n",
      "TPU available: False, using: 0 TPU cores\n",
      "IPU available: False, using: 0 IPUs\n",
      "\n",
      "  | Name       | Type                       | Params\n",
      "----------------------------------------------------------\n",
      "0 | neural_net | T5ForConditionalGeneration | 60.5 M\n",
      "----------------------------------------------------------\n",
      "60.5 M    Trainable params\n",
      "0         Non-trainable params\n",
      "60.5 M    Total params\n",
      "242.026   Total estimated model params size (MB)\n"
     ]
    },
    {
     "data": {
      "text/plain": "Validation sanity check: 0it [00:00, ?it/s]",
      "application/vnd.jupyter.widget-view+json": {
       "version_major": 2,
       "version_minor": 0,
       "model_id": "e5aecb6b44cd437888dd94e2cf0807ee"
      }
     },
     "metadata": {},
     "output_type": "display_data"
    },
    {
     "data": {
      "text/plain": "Training: 0it [00:00, ?it/s]",
      "application/vnd.jupyter.widget-view+json": {
       "version_major": 2,
       "version_minor": 0,
       "model_id": "f0adc28c39394ce1bd6e7e093b721e49"
      }
     },
     "metadata": {},
     "output_type": "display_data"
    },
    {
     "data": {
      "text/plain": "Validating: 0it [00:00, ?it/s]",
      "application/vnd.jupyter.widget-view+json": {
       "version_major": 2,
       "version_minor": 0,
       "model_id": "27ced239b1104f4b89697815770905c3"
      }
     },
     "metadata": {},
     "output_type": "display_data"
    },
    {
     "ename": "RuntimeError",
     "evalue": "shape '[32, -1]' is invalid for input of size 720",
     "output_type": "error",
     "traceback": [
      "\u001B[0;31m---------------------------------------------------------------------------\u001B[0m",
      "\u001B[0;31mRuntimeError\u001B[0m                              Traceback (most recent call last)",
      "\u001B[0;32m/var/folders/_5/3wr8xblj56dd_xpscf0zt6t00000gn/T/ipykernel_91959/4264934488.py\u001B[0m in \u001B[0;36m<module>\u001B[0;34m\u001B[0m\n\u001B[1;32m      3\u001B[0m \u001B[0mmodule\u001B[0m \u001B[0;34m=\u001B[0m \u001B[0mFlickrDataModule\u001B[0m\u001B[0;34m(\u001B[0m\u001B[0;34m)\u001B[0m\u001B[0;34m\u001B[0m\u001B[0;34m\u001B[0m\u001B[0m\n\u001B[1;32m      4\u001B[0m \u001B[0mtrainer\u001B[0m \u001B[0;34m=\u001B[0m \u001B[0mTrainer\u001B[0m\u001B[0;34m(\u001B[0m\u001B[0mmax_epochs\u001B[0m \u001B[0;34m=\u001B[0m \u001B[0;36m8\u001B[0m\u001B[0;34m)\u001B[0m\u001B[0;34m\u001B[0m\u001B[0;34m\u001B[0m\u001B[0m\n\u001B[0;32m----> 5\u001B[0;31m \u001B[0mtrainer\u001B[0m\u001B[0;34m.\u001B[0m\u001B[0mfit\u001B[0m\u001B[0;34m(\u001B[0m\u001B[0mmodel\u001B[0m\u001B[0;34m,\u001B[0m\u001B[0mmodule\u001B[0m\u001B[0;34m)\u001B[0m\u001B[0;34m\u001B[0m\u001B[0;34m\u001B[0m\u001B[0m\n\u001B[0m",
      "\u001B[0;32m/usr/local/Caskroom/miniconda/base/envs/lign167/lib/python3.7/site-packages/pytorch_lightning/trainer/trainer.py\u001B[0m in \u001B[0;36mfit\u001B[0;34m(self, model, train_dataloaders, val_dataloaders, datamodule, train_dataloader, ckpt_path)\u001B[0m\n\u001B[1;32m    739\u001B[0m             \u001B[0mtrain_dataloaders\u001B[0m \u001B[0;34m=\u001B[0m \u001B[0mtrain_dataloader\u001B[0m\u001B[0;34m\u001B[0m\u001B[0;34m\u001B[0m\u001B[0m\n\u001B[1;32m    740\u001B[0m         self._call_and_handle_interrupt(\n\u001B[0;32m--> 741\u001B[0;31m             \u001B[0mself\u001B[0m\u001B[0;34m.\u001B[0m\u001B[0m_fit_impl\u001B[0m\u001B[0;34m,\u001B[0m \u001B[0mmodel\u001B[0m\u001B[0;34m,\u001B[0m \u001B[0mtrain_dataloaders\u001B[0m\u001B[0;34m,\u001B[0m \u001B[0mval_dataloaders\u001B[0m\u001B[0;34m,\u001B[0m \u001B[0mdatamodule\u001B[0m\u001B[0;34m,\u001B[0m \u001B[0mckpt_path\u001B[0m\u001B[0;34m\u001B[0m\u001B[0;34m\u001B[0m\u001B[0m\n\u001B[0m\u001B[1;32m    742\u001B[0m         )\n\u001B[1;32m    743\u001B[0m \u001B[0;34m\u001B[0m\u001B[0m\n",
      "\u001B[0;32m/usr/local/Caskroom/miniconda/base/envs/lign167/lib/python3.7/site-packages/pytorch_lightning/trainer/trainer.py\u001B[0m in \u001B[0;36m_call_and_handle_interrupt\u001B[0;34m(self, trainer_fn, *args, **kwargs)\u001B[0m\n\u001B[1;32m    683\u001B[0m         \"\"\"\n\u001B[1;32m    684\u001B[0m         \u001B[0;32mtry\u001B[0m\u001B[0;34m:\u001B[0m\u001B[0;34m\u001B[0m\u001B[0;34m\u001B[0m\u001B[0m\n\u001B[0;32m--> 685\u001B[0;31m             \u001B[0;32mreturn\u001B[0m \u001B[0mtrainer_fn\u001B[0m\u001B[0;34m(\u001B[0m\u001B[0;34m*\u001B[0m\u001B[0margs\u001B[0m\u001B[0;34m,\u001B[0m \u001B[0;34m**\u001B[0m\u001B[0mkwargs\u001B[0m\u001B[0;34m)\u001B[0m\u001B[0;34m\u001B[0m\u001B[0;34m\u001B[0m\u001B[0m\n\u001B[0m\u001B[1;32m    686\u001B[0m         \u001B[0;31m# TODO: treat KeyboardInterrupt as BaseException (delete the code below) in v1.7\u001B[0m\u001B[0;34m\u001B[0m\u001B[0;34m\u001B[0m\u001B[0;34m\u001B[0m\u001B[0m\n\u001B[1;32m    687\u001B[0m         \u001B[0;32mexcept\u001B[0m \u001B[0mKeyboardInterrupt\u001B[0m \u001B[0;32mas\u001B[0m \u001B[0mexception\u001B[0m\u001B[0;34m:\u001B[0m\u001B[0;34m\u001B[0m\u001B[0;34m\u001B[0m\u001B[0m\n",
      "\u001B[0;32m/usr/local/Caskroom/miniconda/base/envs/lign167/lib/python3.7/site-packages/pytorch_lightning/trainer/trainer.py\u001B[0m in \u001B[0;36m_fit_impl\u001B[0;34m(self, model, train_dataloaders, val_dataloaders, datamodule, ckpt_path)\u001B[0m\n\u001B[1;32m    775\u001B[0m         \u001B[0;31m# TODO: ckpt_path only in v1.7\u001B[0m\u001B[0;34m\u001B[0m\u001B[0;34m\u001B[0m\u001B[0;34m\u001B[0m\u001B[0m\n\u001B[1;32m    776\u001B[0m         \u001B[0mckpt_path\u001B[0m \u001B[0;34m=\u001B[0m \u001B[0mckpt_path\u001B[0m \u001B[0;32mor\u001B[0m \u001B[0mself\u001B[0m\u001B[0;34m.\u001B[0m\u001B[0mresume_from_checkpoint\u001B[0m\u001B[0;34m\u001B[0m\u001B[0;34m\u001B[0m\u001B[0m\n\u001B[0;32m--> 777\u001B[0;31m         \u001B[0mself\u001B[0m\u001B[0;34m.\u001B[0m\u001B[0m_run\u001B[0m\u001B[0;34m(\u001B[0m\u001B[0mmodel\u001B[0m\u001B[0;34m,\u001B[0m \u001B[0mckpt_path\u001B[0m\u001B[0;34m=\u001B[0m\u001B[0mckpt_path\u001B[0m\u001B[0;34m)\u001B[0m\u001B[0;34m\u001B[0m\u001B[0;34m\u001B[0m\u001B[0m\n\u001B[0m\u001B[1;32m    778\u001B[0m \u001B[0;34m\u001B[0m\u001B[0m\n\u001B[1;32m    779\u001B[0m         \u001B[0;32massert\u001B[0m \u001B[0mself\u001B[0m\u001B[0;34m.\u001B[0m\u001B[0mstate\u001B[0m\u001B[0;34m.\u001B[0m\u001B[0mstopped\u001B[0m\u001B[0;34m\u001B[0m\u001B[0;34m\u001B[0m\u001B[0m\n",
      "\u001B[0;32m/usr/local/Caskroom/miniconda/base/envs/lign167/lib/python3.7/site-packages/pytorch_lightning/trainer/trainer.py\u001B[0m in \u001B[0;36m_run\u001B[0;34m(self, model, ckpt_path)\u001B[0m\n\u001B[1;32m   1197\u001B[0m \u001B[0;34m\u001B[0m\u001B[0m\n\u001B[1;32m   1198\u001B[0m         \u001B[0;31m# dispatch `start_training` or `start_evaluating` or `start_predicting`\u001B[0m\u001B[0;34m\u001B[0m\u001B[0;34m\u001B[0m\u001B[0;34m\u001B[0m\u001B[0m\n\u001B[0;32m-> 1199\u001B[0;31m         \u001B[0mself\u001B[0m\u001B[0;34m.\u001B[0m\u001B[0m_dispatch\u001B[0m\u001B[0;34m(\u001B[0m\u001B[0;34m)\u001B[0m\u001B[0;34m\u001B[0m\u001B[0;34m\u001B[0m\u001B[0m\n\u001B[0m\u001B[1;32m   1200\u001B[0m \u001B[0;34m\u001B[0m\u001B[0m\n\u001B[1;32m   1201\u001B[0m         \u001B[0;31m# plugin will finalized fitting (e.g. ddp_spawn will load trained model)\u001B[0m\u001B[0;34m\u001B[0m\u001B[0;34m\u001B[0m\u001B[0;34m\u001B[0m\u001B[0m\n",
      "\u001B[0;32m/usr/local/Caskroom/miniconda/base/envs/lign167/lib/python3.7/site-packages/pytorch_lightning/trainer/trainer.py\u001B[0m in \u001B[0;36m_dispatch\u001B[0;34m(self)\u001B[0m\n\u001B[1;32m   1277\u001B[0m             \u001B[0mself\u001B[0m\u001B[0;34m.\u001B[0m\u001B[0mtraining_type_plugin\u001B[0m\u001B[0;34m.\u001B[0m\u001B[0mstart_predicting\u001B[0m\u001B[0;34m(\u001B[0m\u001B[0mself\u001B[0m\u001B[0;34m)\u001B[0m\u001B[0;34m\u001B[0m\u001B[0;34m\u001B[0m\u001B[0m\n\u001B[1;32m   1278\u001B[0m         \u001B[0;32melse\u001B[0m\u001B[0;34m:\u001B[0m\u001B[0;34m\u001B[0m\u001B[0;34m\u001B[0m\u001B[0m\n\u001B[0;32m-> 1279\u001B[0;31m             \u001B[0mself\u001B[0m\u001B[0;34m.\u001B[0m\u001B[0mtraining_type_plugin\u001B[0m\u001B[0;34m.\u001B[0m\u001B[0mstart_training\u001B[0m\u001B[0;34m(\u001B[0m\u001B[0mself\u001B[0m\u001B[0;34m)\u001B[0m\u001B[0;34m\u001B[0m\u001B[0;34m\u001B[0m\u001B[0m\n\u001B[0m\u001B[1;32m   1280\u001B[0m \u001B[0;34m\u001B[0m\u001B[0m\n\u001B[1;32m   1281\u001B[0m     \u001B[0;32mdef\u001B[0m \u001B[0mrun_stage\u001B[0m\u001B[0;34m(\u001B[0m\u001B[0mself\u001B[0m\u001B[0;34m)\u001B[0m\u001B[0;34m:\u001B[0m\u001B[0;34m\u001B[0m\u001B[0;34m\u001B[0m\u001B[0m\n",
      "\u001B[0;32m/usr/local/Caskroom/miniconda/base/envs/lign167/lib/python3.7/site-packages/pytorch_lightning/plugins/training_type/training_type_plugin.py\u001B[0m in \u001B[0;36mstart_training\u001B[0;34m(self, trainer)\u001B[0m\n\u001B[1;32m    200\u001B[0m     \u001B[0;32mdef\u001B[0m \u001B[0mstart_training\u001B[0m\u001B[0;34m(\u001B[0m\u001B[0mself\u001B[0m\u001B[0;34m,\u001B[0m \u001B[0mtrainer\u001B[0m\u001B[0;34m:\u001B[0m \u001B[0;34m\"pl.Trainer\"\u001B[0m\u001B[0;34m)\u001B[0m \u001B[0;34m->\u001B[0m \u001B[0;32mNone\u001B[0m\u001B[0;34m:\u001B[0m\u001B[0;34m\u001B[0m\u001B[0;34m\u001B[0m\u001B[0m\n\u001B[1;32m    201\u001B[0m         \u001B[0;31m# double dispatch to initiate the training loop\u001B[0m\u001B[0;34m\u001B[0m\u001B[0;34m\u001B[0m\u001B[0;34m\u001B[0m\u001B[0m\n\u001B[0;32m--> 202\u001B[0;31m         \u001B[0mself\u001B[0m\u001B[0;34m.\u001B[0m\u001B[0m_results\u001B[0m \u001B[0;34m=\u001B[0m \u001B[0mtrainer\u001B[0m\u001B[0;34m.\u001B[0m\u001B[0mrun_stage\u001B[0m\u001B[0;34m(\u001B[0m\u001B[0;34m)\u001B[0m\u001B[0;34m\u001B[0m\u001B[0;34m\u001B[0m\u001B[0m\n\u001B[0m\u001B[1;32m    203\u001B[0m \u001B[0;34m\u001B[0m\u001B[0m\n\u001B[1;32m    204\u001B[0m     \u001B[0;32mdef\u001B[0m \u001B[0mstart_evaluating\u001B[0m\u001B[0;34m(\u001B[0m\u001B[0mself\u001B[0m\u001B[0;34m,\u001B[0m \u001B[0mtrainer\u001B[0m\u001B[0;34m:\u001B[0m \u001B[0;34m\"pl.Trainer\"\u001B[0m\u001B[0;34m)\u001B[0m \u001B[0;34m->\u001B[0m \u001B[0;32mNone\u001B[0m\u001B[0;34m:\u001B[0m\u001B[0;34m\u001B[0m\u001B[0;34m\u001B[0m\u001B[0m\n",
      "\u001B[0;32m/usr/local/Caskroom/miniconda/base/envs/lign167/lib/python3.7/site-packages/pytorch_lightning/trainer/trainer.py\u001B[0m in \u001B[0;36mrun_stage\u001B[0;34m(self)\u001B[0m\n\u001B[1;32m   1287\u001B[0m         \u001B[0;32mif\u001B[0m \u001B[0mself\u001B[0m\u001B[0;34m.\u001B[0m\u001B[0mpredicting\u001B[0m\u001B[0;34m:\u001B[0m\u001B[0;34m\u001B[0m\u001B[0;34m\u001B[0m\u001B[0m\n\u001B[1;32m   1288\u001B[0m             \u001B[0;32mreturn\u001B[0m \u001B[0mself\u001B[0m\u001B[0;34m.\u001B[0m\u001B[0m_run_predict\u001B[0m\u001B[0;34m(\u001B[0m\u001B[0;34m)\u001B[0m\u001B[0;34m\u001B[0m\u001B[0;34m\u001B[0m\u001B[0m\n\u001B[0;32m-> 1289\u001B[0;31m         \u001B[0;32mreturn\u001B[0m \u001B[0mself\u001B[0m\u001B[0;34m.\u001B[0m\u001B[0m_run_train\u001B[0m\u001B[0;34m(\u001B[0m\u001B[0;34m)\u001B[0m\u001B[0;34m\u001B[0m\u001B[0;34m\u001B[0m\u001B[0m\n\u001B[0m\u001B[1;32m   1290\u001B[0m \u001B[0;34m\u001B[0m\u001B[0m\n\u001B[1;32m   1291\u001B[0m     \u001B[0;32mdef\u001B[0m \u001B[0m_pre_training_routine\u001B[0m\u001B[0;34m(\u001B[0m\u001B[0mself\u001B[0m\u001B[0;34m)\u001B[0m\u001B[0;34m:\u001B[0m\u001B[0;34m\u001B[0m\u001B[0;34m\u001B[0m\u001B[0m\n",
      "\u001B[0;32m/usr/local/Caskroom/miniconda/base/envs/lign167/lib/python3.7/site-packages/pytorch_lightning/trainer/trainer.py\u001B[0m in \u001B[0;36m_run_train\u001B[0;34m(self)\u001B[0m\n\u001B[1;32m   1317\u001B[0m         \u001B[0mself\u001B[0m\u001B[0;34m.\u001B[0m\u001B[0mfit_loop\u001B[0m\u001B[0;34m.\u001B[0m\u001B[0mtrainer\u001B[0m \u001B[0;34m=\u001B[0m \u001B[0mself\u001B[0m\u001B[0;34m\u001B[0m\u001B[0;34m\u001B[0m\u001B[0m\n\u001B[1;32m   1318\u001B[0m         \u001B[0;32mwith\u001B[0m \u001B[0mtorch\u001B[0m\u001B[0;34m.\u001B[0m\u001B[0mautograd\u001B[0m\u001B[0;34m.\u001B[0m\u001B[0mset_detect_anomaly\u001B[0m\u001B[0;34m(\u001B[0m\u001B[0mself\u001B[0m\u001B[0;34m.\u001B[0m\u001B[0m_detect_anomaly\u001B[0m\u001B[0;34m)\u001B[0m\u001B[0;34m:\u001B[0m\u001B[0;34m\u001B[0m\u001B[0;34m\u001B[0m\u001B[0m\n\u001B[0;32m-> 1319\u001B[0;31m             \u001B[0mself\u001B[0m\u001B[0;34m.\u001B[0m\u001B[0mfit_loop\u001B[0m\u001B[0;34m.\u001B[0m\u001B[0mrun\u001B[0m\u001B[0;34m(\u001B[0m\u001B[0;34m)\u001B[0m\u001B[0;34m\u001B[0m\u001B[0;34m\u001B[0m\u001B[0m\n\u001B[0m\u001B[1;32m   1320\u001B[0m \u001B[0;34m\u001B[0m\u001B[0m\n\u001B[1;32m   1321\u001B[0m     \u001B[0;32mdef\u001B[0m \u001B[0m_run_evaluate\u001B[0m\u001B[0;34m(\u001B[0m\u001B[0mself\u001B[0m\u001B[0;34m)\u001B[0m \u001B[0;34m->\u001B[0m \u001B[0m_EVALUATE_OUTPUT\u001B[0m\u001B[0;34m:\u001B[0m\u001B[0;34m\u001B[0m\u001B[0;34m\u001B[0m\u001B[0m\n",
      "\u001B[0;32m/usr/local/Caskroom/miniconda/base/envs/lign167/lib/python3.7/site-packages/pytorch_lightning/loops/base.py\u001B[0m in \u001B[0;36mrun\u001B[0;34m(self, *args, **kwargs)\u001B[0m\n\u001B[1;32m    143\u001B[0m             \u001B[0;32mtry\u001B[0m\u001B[0;34m:\u001B[0m\u001B[0;34m\u001B[0m\u001B[0;34m\u001B[0m\u001B[0m\n\u001B[1;32m    144\u001B[0m                 \u001B[0mself\u001B[0m\u001B[0;34m.\u001B[0m\u001B[0mon_advance_start\u001B[0m\u001B[0;34m(\u001B[0m\u001B[0;34m*\u001B[0m\u001B[0margs\u001B[0m\u001B[0;34m,\u001B[0m \u001B[0;34m**\u001B[0m\u001B[0mkwargs\u001B[0m\u001B[0;34m)\u001B[0m\u001B[0;34m\u001B[0m\u001B[0;34m\u001B[0m\u001B[0m\n\u001B[0;32m--> 145\u001B[0;31m                 \u001B[0mself\u001B[0m\u001B[0;34m.\u001B[0m\u001B[0madvance\u001B[0m\u001B[0;34m(\u001B[0m\u001B[0;34m*\u001B[0m\u001B[0margs\u001B[0m\u001B[0;34m,\u001B[0m \u001B[0;34m**\u001B[0m\u001B[0mkwargs\u001B[0m\u001B[0;34m)\u001B[0m\u001B[0;34m\u001B[0m\u001B[0;34m\u001B[0m\u001B[0m\n\u001B[0m\u001B[1;32m    146\u001B[0m                 \u001B[0mself\u001B[0m\u001B[0;34m.\u001B[0m\u001B[0mon_advance_end\u001B[0m\u001B[0;34m(\u001B[0m\u001B[0;34m)\u001B[0m\u001B[0;34m\u001B[0m\u001B[0;34m\u001B[0m\u001B[0m\n\u001B[1;32m    147\u001B[0m                 \u001B[0mself\u001B[0m\u001B[0;34m.\u001B[0m\u001B[0mrestarting\u001B[0m \u001B[0;34m=\u001B[0m \u001B[0;32mFalse\u001B[0m\u001B[0;34m\u001B[0m\u001B[0;34m\u001B[0m\u001B[0m\n",
      "\u001B[0;32m/usr/local/Caskroom/miniconda/base/envs/lign167/lib/python3.7/site-packages/pytorch_lightning/loops/fit_loop.py\u001B[0m in \u001B[0;36madvance\u001B[0;34m(self)\u001B[0m\n\u001B[1;32m    232\u001B[0m \u001B[0;34m\u001B[0m\u001B[0m\n\u001B[1;32m    233\u001B[0m         \u001B[0;32mwith\u001B[0m \u001B[0mself\u001B[0m\u001B[0;34m.\u001B[0m\u001B[0mtrainer\u001B[0m\u001B[0;34m.\u001B[0m\u001B[0mprofiler\u001B[0m\u001B[0;34m.\u001B[0m\u001B[0mprofile\u001B[0m\u001B[0;34m(\u001B[0m\u001B[0;34m\"run_training_epoch\"\u001B[0m\u001B[0;34m)\u001B[0m\u001B[0;34m:\u001B[0m\u001B[0;34m\u001B[0m\u001B[0;34m\u001B[0m\u001B[0m\n\u001B[0;32m--> 234\u001B[0;31m             \u001B[0mself\u001B[0m\u001B[0;34m.\u001B[0m\u001B[0mepoch_loop\u001B[0m\u001B[0;34m.\u001B[0m\u001B[0mrun\u001B[0m\u001B[0;34m(\u001B[0m\u001B[0mdata_fetcher\u001B[0m\u001B[0;34m)\u001B[0m\u001B[0;34m\u001B[0m\u001B[0;34m\u001B[0m\u001B[0m\n\u001B[0m\u001B[1;32m    235\u001B[0m \u001B[0;34m\u001B[0m\u001B[0m\n\u001B[1;32m    236\u001B[0m             \u001B[0;31m# the global step is manually decreased here due to backwards compatibility with existing loggers\u001B[0m\u001B[0;34m\u001B[0m\u001B[0;34m\u001B[0m\u001B[0;34m\u001B[0m\u001B[0m\n",
      "\u001B[0;32m/usr/local/Caskroom/miniconda/base/envs/lign167/lib/python3.7/site-packages/pytorch_lightning/loops/base.py\u001B[0m in \u001B[0;36mrun\u001B[0;34m(self, *args, **kwargs)\u001B[0m\n\u001B[1;32m    144\u001B[0m                 \u001B[0mself\u001B[0m\u001B[0;34m.\u001B[0m\u001B[0mon_advance_start\u001B[0m\u001B[0;34m(\u001B[0m\u001B[0;34m*\u001B[0m\u001B[0margs\u001B[0m\u001B[0;34m,\u001B[0m \u001B[0;34m**\u001B[0m\u001B[0mkwargs\u001B[0m\u001B[0;34m)\u001B[0m\u001B[0;34m\u001B[0m\u001B[0;34m\u001B[0m\u001B[0m\n\u001B[1;32m    145\u001B[0m                 \u001B[0mself\u001B[0m\u001B[0;34m.\u001B[0m\u001B[0madvance\u001B[0m\u001B[0;34m(\u001B[0m\u001B[0;34m*\u001B[0m\u001B[0margs\u001B[0m\u001B[0;34m,\u001B[0m \u001B[0;34m**\u001B[0m\u001B[0mkwargs\u001B[0m\u001B[0;34m)\u001B[0m\u001B[0;34m\u001B[0m\u001B[0;34m\u001B[0m\u001B[0m\n\u001B[0;32m--> 146\u001B[0;31m                 \u001B[0mself\u001B[0m\u001B[0;34m.\u001B[0m\u001B[0mon_advance_end\u001B[0m\u001B[0;34m(\u001B[0m\u001B[0;34m)\u001B[0m\u001B[0;34m\u001B[0m\u001B[0;34m\u001B[0m\u001B[0m\n\u001B[0m\u001B[1;32m    147\u001B[0m                 \u001B[0mself\u001B[0m\u001B[0;34m.\u001B[0m\u001B[0mrestarting\u001B[0m \u001B[0;34m=\u001B[0m \u001B[0;32mFalse\u001B[0m\u001B[0;34m\u001B[0m\u001B[0;34m\u001B[0m\u001B[0m\n\u001B[1;32m    148\u001B[0m             \u001B[0;32mexcept\u001B[0m \u001B[0mStopIteration\u001B[0m\u001B[0;34m:\u001B[0m\u001B[0;34m\u001B[0m\u001B[0;34m\u001B[0m\u001B[0m\n",
      "\u001B[0;32m/usr/local/Caskroom/miniconda/base/envs/lign167/lib/python3.7/site-packages/pytorch_lightning/loops/epoch/training_epoch_loop.py\u001B[0m in \u001B[0;36mon_advance_end\u001B[0;34m(self)\u001B[0m\n\u001B[1;32m    240\u001B[0m         \u001B[0;32mif\u001B[0m \u001B[0mshould_check_val\u001B[0m\u001B[0;34m:\u001B[0m\u001B[0;34m\u001B[0m\u001B[0;34m\u001B[0m\u001B[0m\n\u001B[1;32m    241\u001B[0m             \u001B[0mself\u001B[0m\u001B[0;34m.\u001B[0m\u001B[0mtrainer\u001B[0m\u001B[0;34m.\u001B[0m\u001B[0mvalidating\u001B[0m \u001B[0;34m=\u001B[0m \u001B[0;32mTrue\u001B[0m\u001B[0;34m\u001B[0m\u001B[0;34m\u001B[0m\u001B[0m\n\u001B[0;32m--> 242\u001B[0;31m             \u001B[0mself\u001B[0m\u001B[0;34m.\u001B[0m\u001B[0m_run_validation\u001B[0m\u001B[0;34m(\u001B[0m\u001B[0;34m)\u001B[0m\u001B[0;34m\u001B[0m\u001B[0;34m\u001B[0m\u001B[0m\n\u001B[0m\u001B[1;32m    243\u001B[0m             \u001B[0mself\u001B[0m\u001B[0;34m.\u001B[0m\u001B[0mtrainer\u001B[0m\u001B[0;34m.\u001B[0m\u001B[0mtraining\u001B[0m \u001B[0;34m=\u001B[0m \u001B[0;32mTrue\u001B[0m\u001B[0;34m\u001B[0m\u001B[0;34m\u001B[0m\u001B[0m\n\u001B[1;32m    244\u001B[0m \u001B[0;34m\u001B[0m\u001B[0m\n",
      "\u001B[0;32m/usr/local/Caskroom/miniconda/base/envs/lign167/lib/python3.7/site-packages/pytorch_lightning/loops/epoch/training_epoch_loop.py\u001B[0m in \u001B[0;36m_run_validation\u001B[0;34m(self)\u001B[0m\n\u001B[1;32m    335\u001B[0m \u001B[0;34m\u001B[0m\u001B[0m\n\u001B[1;32m    336\u001B[0m         \u001B[0;32mwith\u001B[0m \u001B[0mtorch\u001B[0m\u001B[0;34m.\u001B[0m\u001B[0mno_grad\u001B[0m\u001B[0;34m(\u001B[0m\u001B[0;34m)\u001B[0m\u001B[0;34m:\u001B[0m\u001B[0;34m\u001B[0m\u001B[0;34m\u001B[0m\u001B[0m\n\u001B[0;32m--> 337\u001B[0;31m             \u001B[0mself\u001B[0m\u001B[0;34m.\u001B[0m\u001B[0mval_loop\u001B[0m\u001B[0;34m.\u001B[0m\u001B[0mrun\u001B[0m\u001B[0;34m(\u001B[0m\u001B[0;34m)\u001B[0m\u001B[0;34m\u001B[0m\u001B[0;34m\u001B[0m\u001B[0m\n\u001B[0m\u001B[1;32m    338\u001B[0m \u001B[0;34m\u001B[0m\u001B[0m\n\u001B[1;32m    339\u001B[0m     \u001B[0;32mdef\u001B[0m \u001B[0m_accumulated_batches_reached\u001B[0m\u001B[0;34m(\u001B[0m\u001B[0mself\u001B[0m\u001B[0;34m)\u001B[0m \u001B[0;34m->\u001B[0m \u001B[0mbool\u001B[0m\u001B[0;34m:\u001B[0m\u001B[0;34m\u001B[0m\u001B[0;34m\u001B[0m\u001B[0m\n",
      "\u001B[0;32m/usr/local/Caskroom/miniconda/base/envs/lign167/lib/python3.7/site-packages/pytorch_lightning/loops/base.py\u001B[0m in \u001B[0;36mrun\u001B[0;34m(self, *args, **kwargs)\u001B[0m\n\u001B[1;32m    143\u001B[0m             \u001B[0;32mtry\u001B[0m\u001B[0;34m:\u001B[0m\u001B[0;34m\u001B[0m\u001B[0;34m\u001B[0m\u001B[0m\n\u001B[1;32m    144\u001B[0m                 \u001B[0mself\u001B[0m\u001B[0;34m.\u001B[0m\u001B[0mon_advance_start\u001B[0m\u001B[0;34m(\u001B[0m\u001B[0;34m*\u001B[0m\u001B[0margs\u001B[0m\u001B[0;34m,\u001B[0m \u001B[0;34m**\u001B[0m\u001B[0mkwargs\u001B[0m\u001B[0;34m)\u001B[0m\u001B[0;34m\u001B[0m\u001B[0;34m\u001B[0m\u001B[0m\n\u001B[0;32m--> 145\u001B[0;31m                 \u001B[0mself\u001B[0m\u001B[0;34m.\u001B[0m\u001B[0madvance\u001B[0m\u001B[0;34m(\u001B[0m\u001B[0;34m*\u001B[0m\u001B[0margs\u001B[0m\u001B[0;34m,\u001B[0m \u001B[0;34m**\u001B[0m\u001B[0mkwargs\u001B[0m\u001B[0;34m)\u001B[0m\u001B[0;34m\u001B[0m\u001B[0;34m\u001B[0m\u001B[0m\n\u001B[0m\u001B[1;32m    146\u001B[0m                 \u001B[0mself\u001B[0m\u001B[0;34m.\u001B[0m\u001B[0mon_advance_end\u001B[0m\u001B[0;34m(\u001B[0m\u001B[0;34m)\u001B[0m\u001B[0;34m\u001B[0m\u001B[0;34m\u001B[0m\u001B[0m\n\u001B[1;32m    147\u001B[0m                 \u001B[0mself\u001B[0m\u001B[0;34m.\u001B[0m\u001B[0mrestarting\u001B[0m \u001B[0;34m=\u001B[0m \u001B[0;32mFalse\u001B[0m\u001B[0;34m\u001B[0m\u001B[0;34m\u001B[0m\u001B[0m\n",
      "\u001B[0;32m/usr/local/Caskroom/miniconda/base/envs/lign167/lib/python3.7/site-packages/pytorch_lightning/loops/dataloader/evaluation_loop.py\u001B[0m in \u001B[0;36madvance\u001B[0;34m(self, *args, **kwargs)\u001B[0m\n\u001B[1;32m    108\u001B[0m         \u001B[0mdl_max_batches\u001B[0m \u001B[0;34m=\u001B[0m \u001B[0mself\u001B[0m\u001B[0;34m.\u001B[0m\u001B[0m_max_batches\u001B[0m\u001B[0;34m[\u001B[0m\u001B[0mdataloader_idx\u001B[0m\u001B[0;34m]\u001B[0m\u001B[0;34m\u001B[0m\u001B[0;34m\u001B[0m\u001B[0m\n\u001B[1;32m    109\u001B[0m \u001B[0;34m\u001B[0m\u001B[0m\n\u001B[0;32m--> 110\u001B[0;31m         \u001B[0mdl_outputs\u001B[0m \u001B[0;34m=\u001B[0m \u001B[0mself\u001B[0m\u001B[0;34m.\u001B[0m\u001B[0mepoch_loop\u001B[0m\u001B[0;34m.\u001B[0m\u001B[0mrun\u001B[0m\u001B[0;34m(\u001B[0m\u001B[0mdataloader\u001B[0m\u001B[0;34m,\u001B[0m \u001B[0mdataloader_idx\u001B[0m\u001B[0;34m,\u001B[0m \u001B[0mdl_max_batches\u001B[0m\u001B[0;34m,\u001B[0m \u001B[0mself\u001B[0m\u001B[0;34m.\u001B[0m\u001B[0mnum_dataloaders\u001B[0m\u001B[0;34m)\u001B[0m\u001B[0;34m\u001B[0m\u001B[0;34m\u001B[0m\u001B[0m\n\u001B[0m\u001B[1;32m    111\u001B[0m \u001B[0;34m\u001B[0m\u001B[0m\n\u001B[1;32m    112\u001B[0m         \u001B[0;31m# store batch level output per dataloader\u001B[0m\u001B[0;34m\u001B[0m\u001B[0;34m\u001B[0m\u001B[0;34m\u001B[0m\u001B[0m\n",
      "\u001B[0;32m/usr/local/Caskroom/miniconda/base/envs/lign167/lib/python3.7/site-packages/pytorch_lightning/loops/base.py\u001B[0m in \u001B[0;36mrun\u001B[0;34m(self, *args, **kwargs)\u001B[0m\n\u001B[1;32m    143\u001B[0m             \u001B[0;32mtry\u001B[0m\u001B[0;34m:\u001B[0m\u001B[0;34m\u001B[0m\u001B[0;34m\u001B[0m\u001B[0m\n\u001B[1;32m    144\u001B[0m                 \u001B[0mself\u001B[0m\u001B[0;34m.\u001B[0m\u001B[0mon_advance_start\u001B[0m\u001B[0;34m(\u001B[0m\u001B[0;34m*\u001B[0m\u001B[0margs\u001B[0m\u001B[0;34m,\u001B[0m \u001B[0;34m**\u001B[0m\u001B[0mkwargs\u001B[0m\u001B[0;34m)\u001B[0m\u001B[0;34m\u001B[0m\u001B[0;34m\u001B[0m\u001B[0m\n\u001B[0;32m--> 145\u001B[0;31m                 \u001B[0mself\u001B[0m\u001B[0;34m.\u001B[0m\u001B[0madvance\u001B[0m\u001B[0;34m(\u001B[0m\u001B[0;34m*\u001B[0m\u001B[0margs\u001B[0m\u001B[0;34m,\u001B[0m \u001B[0;34m**\u001B[0m\u001B[0mkwargs\u001B[0m\u001B[0;34m)\u001B[0m\u001B[0;34m\u001B[0m\u001B[0;34m\u001B[0m\u001B[0m\n\u001B[0m\u001B[1;32m    146\u001B[0m                 \u001B[0mself\u001B[0m\u001B[0;34m.\u001B[0m\u001B[0mon_advance_end\u001B[0m\u001B[0;34m(\u001B[0m\u001B[0;34m)\u001B[0m\u001B[0;34m\u001B[0m\u001B[0;34m\u001B[0m\u001B[0m\n\u001B[1;32m    147\u001B[0m                 \u001B[0mself\u001B[0m\u001B[0;34m.\u001B[0m\u001B[0mrestarting\u001B[0m \u001B[0;34m=\u001B[0m \u001B[0;32mFalse\u001B[0m\u001B[0;34m\u001B[0m\u001B[0;34m\u001B[0m\u001B[0m\n",
      "\u001B[0;32m/usr/local/Caskroom/miniconda/base/envs/lign167/lib/python3.7/site-packages/pytorch_lightning/loops/epoch/evaluation_epoch_loop.py\u001B[0m in \u001B[0;36madvance\u001B[0;34m(self, data_fetcher, dataloader_idx, dl_max_batches, num_dataloaders)\u001B[0m\n\u001B[1;32m    120\u001B[0m         \u001B[0;31m# lightning module methods\u001B[0m\u001B[0;34m\u001B[0m\u001B[0;34m\u001B[0m\u001B[0;34m\u001B[0m\u001B[0m\n\u001B[1;32m    121\u001B[0m         \u001B[0;32mwith\u001B[0m \u001B[0mself\u001B[0m\u001B[0;34m.\u001B[0m\u001B[0mtrainer\u001B[0m\u001B[0;34m.\u001B[0m\u001B[0mprofiler\u001B[0m\u001B[0;34m.\u001B[0m\u001B[0mprofile\u001B[0m\u001B[0;34m(\u001B[0m\u001B[0;34m\"evaluation_step_and_end\"\u001B[0m\u001B[0;34m)\u001B[0m\u001B[0;34m:\u001B[0m\u001B[0;34m\u001B[0m\u001B[0;34m\u001B[0m\u001B[0m\n\u001B[0;32m--> 122\u001B[0;31m             \u001B[0moutput\u001B[0m \u001B[0;34m=\u001B[0m \u001B[0mself\u001B[0m\u001B[0;34m.\u001B[0m\u001B[0m_evaluation_step\u001B[0m\u001B[0;34m(\u001B[0m\u001B[0mbatch\u001B[0m\u001B[0;34m,\u001B[0m \u001B[0mbatch_idx\u001B[0m\u001B[0;34m,\u001B[0m \u001B[0mdataloader_idx\u001B[0m\u001B[0;34m)\u001B[0m\u001B[0;34m\u001B[0m\u001B[0;34m\u001B[0m\u001B[0m\n\u001B[0m\u001B[1;32m    123\u001B[0m             \u001B[0moutput\u001B[0m \u001B[0;34m=\u001B[0m \u001B[0mself\u001B[0m\u001B[0;34m.\u001B[0m\u001B[0m_evaluation_step_end\u001B[0m\u001B[0;34m(\u001B[0m\u001B[0moutput\u001B[0m\u001B[0;34m)\u001B[0m\u001B[0;34m\u001B[0m\u001B[0;34m\u001B[0m\u001B[0m\n\u001B[1;32m    124\u001B[0m \u001B[0;34m\u001B[0m\u001B[0m\n",
      "\u001B[0;32m/usr/local/Caskroom/miniconda/base/envs/lign167/lib/python3.7/site-packages/pytorch_lightning/loops/epoch/evaluation_epoch_loop.py\u001B[0m in \u001B[0;36m_evaluation_step\u001B[0;34m(self, batch, batch_idx, dataloader_idx)\u001B[0m\n\u001B[1;32m    215\u001B[0m             \u001B[0mself\u001B[0m\u001B[0;34m.\u001B[0m\u001B[0mtrainer\u001B[0m\u001B[0;34m.\u001B[0m\u001B[0mlightning_module\u001B[0m\u001B[0;34m.\u001B[0m\u001B[0m_current_fx_name\u001B[0m \u001B[0;34m=\u001B[0m \u001B[0;34m\"validation_step\"\u001B[0m\u001B[0;34m\u001B[0m\u001B[0;34m\u001B[0m\u001B[0m\n\u001B[1;32m    216\u001B[0m             \u001B[0;32mwith\u001B[0m \u001B[0mself\u001B[0m\u001B[0;34m.\u001B[0m\u001B[0mtrainer\u001B[0m\u001B[0;34m.\u001B[0m\u001B[0mprofiler\u001B[0m\u001B[0;34m.\u001B[0m\u001B[0mprofile\u001B[0m\u001B[0;34m(\u001B[0m\u001B[0;34m\"validation_step\"\u001B[0m\u001B[0;34m)\u001B[0m\u001B[0;34m:\u001B[0m\u001B[0;34m\u001B[0m\u001B[0;34m\u001B[0m\u001B[0m\n\u001B[0;32m--> 217\u001B[0;31m                 \u001B[0moutput\u001B[0m \u001B[0;34m=\u001B[0m \u001B[0mself\u001B[0m\u001B[0;34m.\u001B[0m\u001B[0mtrainer\u001B[0m\u001B[0;34m.\u001B[0m\u001B[0maccelerator\u001B[0m\u001B[0;34m.\u001B[0m\u001B[0mvalidation_step\u001B[0m\u001B[0;34m(\u001B[0m\u001B[0mstep_kwargs\u001B[0m\u001B[0;34m)\u001B[0m\u001B[0;34m\u001B[0m\u001B[0;34m\u001B[0m\u001B[0m\n\u001B[0m\u001B[1;32m    218\u001B[0m \u001B[0;34m\u001B[0m\u001B[0m\n\u001B[1;32m    219\u001B[0m         \u001B[0;32mreturn\u001B[0m \u001B[0moutput\u001B[0m\u001B[0;34m\u001B[0m\u001B[0;34m\u001B[0m\u001B[0m\n",
      "\u001B[0;32m/usr/local/Caskroom/miniconda/base/envs/lign167/lib/python3.7/site-packages/pytorch_lightning/accelerators/accelerator.py\u001B[0m in \u001B[0;36mvalidation_step\u001B[0;34m(self, step_kwargs)\u001B[0m\n\u001B[1;32m    237\u001B[0m         \"\"\"\n\u001B[1;32m    238\u001B[0m         \u001B[0;32mwith\u001B[0m \u001B[0mself\u001B[0m\u001B[0;34m.\u001B[0m\u001B[0mprecision_plugin\u001B[0m\u001B[0;34m.\u001B[0m\u001B[0mval_step_context\u001B[0m\u001B[0;34m(\u001B[0m\u001B[0;34m)\u001B[0m\u001B[0;34m:\u001B[0m\u001B[0;34m\u001B[0m\u001B[0;34m\u001B[0m\u001B[0m\n\u001B[0;32m--> 239\u001B[0;31m             \u001B[0;32mreturn\u001B[0m \u001B[0mself\u001B[0m\u001B[0;34m.\u001B[0m\u001B[0mtraining_type_plugin\u001B[0m\u001B[0;34m.\u001B[0m\u001B[0mvalidation_step\u001B[0m\u001B[0;34m(\u001B[0m\u001B[0;34m*\u001B[0m\u001B[0mstep_kwargs\u001B[0m\u001B[0;34m.\u001B[0m\u001B[0mvalues\u001B[0m\u001B[0;34m(\u001B[0m\u001B[0;34m)\u001B[0m\u001B[0;34m)\u001B[0m\u001B[0;34m\u001B[0m\u001B[0;34m\u001B[0m\u001B[0m\n\u001B[0m\u001B[1;32m    240\u001B[0m \u001B[0;34m\u001B[0m\u001B[0m\n\u001B[1;32m    241\u001B[0m     \u001B[0;32mdef\u001B[0m \u001B[0mtest_step\u001B[0m\u001B[0;34m(\u001B[0m\u001B[0mself\u001B[0m\u001B[0;34m,\u001B[0m \u001B[0mstep_kwargs\u001B[0m\u001B[0;34m:\u001B[0m \u001B[0mDict\u001B[0m\u001B[0;34m[\u001B[0m\u001B[0mstr\u001B[0m\u001B[0;34m,\u001B[0m \u001B[0mUnion\u001B[0m\u001B[0;34m[\u001B[0m\u001B[0mAny\u001B[0m\u001B[0;34m,\u001B[0m \u001B[0mint\u001B[0m\u001B[0;34m]\u001B[0m\u001B[0;34m]\u001B[0m\u001B[0;34m)\u001B[0m \u001B[0;34m->\u001B[0m \u001B[0mOptional\u001B[0m\u001B[0;34m[\u001B[0m\u001B[0mSTEP_OUTPUT\u001B[0m\u001B[0;34m]\u001B[0m\u001B[0;34m:\u001B[0m\u001B[0;34m\u001B[0m\u001B[0;34m\u001B[0m\u001B[0m\n",
      "\u001B[0;32m/usr/local/Caskroom/miniconda/base/envs/lign167/lib/python3.7/site-packages/pytorch_lightning/plugins/training_type/training_type_plugin.py\u001B[0m in \u001B[0;36mvalidation_step\u001B[0;34m(self, *args, **kwargs)\u001B[0m\n\u001B[1;32m    217\u001B[0m \u001B[0;34m\u001B[0m\u001B[0m\n\u001B[1;32m    218\u001B[0m     \u001B[0;32mdef\u001B[0m \u001B[0mvalidation_step\u001B[0m\u001B[0;34m(\u001B[0m\u001B[0mself\u001B[0m\u001B[0;34m,\u001B[0m \u001B[0;34m*\u001B[0m\u001B[0margs\u001B[0m\u001B[0;34m,\u001B[0m \u001B[0;34m**\u001B[0m\u001B[0mkwargs\u001B[0m\u001B[0;34m)\u001B[0m\u001B[0;34m:\u001B[0m\u001B[0;34m\u001B[0m\u001B[0;34m\u001B[0m\u001B[0m\n\u001B[0;32m--> 219\u001B[0;31m         \u001B[0;32mreturn\u001B[0m \u001B[0mself\u001B[0m\u001B[0;34m.\u001B[0m\u001B[0mmodel\u001B[0m\u001B[0;34m.\u001B[0m\u001B[0mvalidation_step\u001B[0m\u001B[0;34m(\u001B[0m\u001B[0;34m*\u001B[0m\u001B[0margs\u001B[0m\u001B[0;34m,\u001B[0m \u001B[0;34m**\u001B[0m\u001B[0mkwargs\u001B[0m\u001B[0;34m)\u001B[0m\u001B[0;34m\u001B[0m\u001B[0;34m\u001B[0m\u001B[0m\n\u001B[0m\u001B[1;32m    220\u001B[0m \u001B[0;34m\u001B[0m\u001B[0m\n\u001B[1;32m    221\u001B[0m     \u001B[0;32mdef\u001B[0m \u001B[0mtest_step\u001B[0m\u001B[0;34m(\u001B[0m\u001B[0mself\u001B[0m\u001B[0;34m,\u001B[0m \u001B[0;34m*\u001B[0m\u001B[0margs\u001B[0m\u001B[0;34m,\u001B[0m \u001B[0;34m**\u001B[0m\u001B[0mkwargs\u001B[0m\u001B[0;34m)\u001B[0m\u001B[0;34m:\u001B[0m\u001B[0;34m\u001B[0m\u001B[0;34m\u001B[0m\u001B[0m\n",
      "\u001B[0;32m/var/folders/_5/3wr8xblj56dd_xpscf0zt6t00000gn/T/ipykernel_91959/2172907602.py\u001B[0m in \u001B[0;36mvalidation_step\u001B[0;34m(self, batch, batch_idx)\u001B[0m\n\u001B[1;32m     25\u001B[0m     \u001B[0;32mdef\u001B[0m \u001B[0mvalidation_step\u001B[0m\u001B[0;34m(\u001B[0m\u001B[0mself\u001B[0m\u001B[0;34m,\u001B[0m\u001B[0mbatch\u001B[0m\u001B[0;34m,\u001B[0m\u001B[0mbatch_idx\u001B[0m\u001B[0;34m)\u001B[0m\u001B[0;34m:\u001B[0m\u001B[0;34m\u001B[0m\u001B[0;34m\u001B[0m\u001B[0m\n\u001B[1;32m     26\u001B[0m         \u001B[0moriginal\u001B[0m\u001B[0;34m,\u001B[0m \u001B[0mtransferred\u001B[0m \u001B[0;34m=\u001B[0m \u001B[0mbatch\u001B[0m\u001B[0;34m[\u001B[0m\u001B[0;36m0\u001B[0m\u001B[0;34m]\u001B[0m\u001B[0;34m,\u001B[0m \u001B[0mbatch\u001B[0m\u001B[0;34m[\u001B[0m\u001B[0;36m1\u001B[0m\u001B[0;34m]\u001B[0m\u001B[0;34m\u001B[0m\u001B[0;34m\u001B[0m\u001B[0m\n\u001B[0;32m---> 27\u001B[0;31m         \u001B[0moutput\u001B[0m \u001B[0;34m=\u001B[0m \u001B[0mself\u001B[0m\u001B[0;34m(\u001B[0m\u001B[0moriginal\u001B[0m\u001B[0;34m,\u001B[0m \u001B[0mtransferred\u001B[0m\u001B[0;34m)\u001B[0m\u001B[0;34m\u001B[0m\u001B[0;34m\u001B[0m\u001B[0m\n\u001B[0m\u001B[1;32m     28\u001B[0m         \u001B[0;32mreturn\u001B[0m \u001B[0moutput\u001B[0m\u001B[0;34m.\u001B[0m\u001B[0mloss\u001B[0m\u001B[0;34m\u001B[0m\u001B[0;34m\u001B[0m\u001B[0m\n",
      "\u001B[0;32m/usr/local/Caskroom/miniconda/base/envs/lign167/lib/python3.7/site-packages/torch/nn/modules/module.py\u001B[0m in \u001B[0;36m_call_impl\u001B[0;34m(self, *input, **kwargs)\u001B[0m\n\u001B[1;32m   1100\u001B[0m         if not (self._backward_hooks or self._forward_hooks or self._forward_pre_hooks or _global_backward_hooks\n\u001B[1;32m   1101\u001B[0m                 or _global_forward_hooks or _global_forward_pre_hooks):\n\u001B[0;32m-> 1102\u001B[0;31m             \u001B[0;32mreturn\u001B[0m \u001B[0mforward_call\u001B[0m\u001B[0;34m(\u001B[0m\u001B[0;34m*\u001B[0m\u001B[0minput\u001B[0m\u001B[0;34m,\u001B[0m \u001B[0;34m**\u001B[0m\u001B[0mkwargs\u001B[0m\u001B[0;34m)\u001B[0m\u001B[0;34m\u001B[0m\u001B[0;34m\u001B[0m\u001B[0m\n\u001B[0m\u001B[1;32m   1103\u001B[0m         \u001B[0;31m# Do not call functions when jit is used\u001B[0m\u001B[0;34m\u001B[0m\u001B[0;34m\u001B[0m\u001B[0;34m\u001B[0m\u001B[0m\n\u001B[1;32m   1104\u001B[0m         \u001B[0mfull_backward_hooks\u001B[0m\u001B[0;34m,\u001B[0m \u001B[0mnon_full_backward_hooks\u001B[0m \u001B[0;34m=\u001B[0m \u001B[0;34m[\u001B[0m\u001B[0;34m]\u001B[0m\u001B[0;34m,\u001B[0m \u001B[0;34m[\u001B[0m\u001B[0;34m]\u001B[0m\u001B[0;34m\u001B[0m\u001B[0;34m\u001B[0m\u001B[0m\n",
      "\u001B[0;32m/var/folders/_5/3wr8xblj56dd_xpscf0zt6t00000gn/T/ipykernel_91959/2172907602.py\u001B[0m in \u001B[0;36mforward\u001B[0;34m(self, original, transferred)\u001B[0m\n\u001B[1;32m      6\u001B[0m \u001B[0;34m\u001B[0m\u001B[0m\n\u001B[1;32m      7\u001B[0m     \u001B[0;32mdef\u001B[0m \u001B[0mforward\u001B[0m\u001B[0;34m(\u001B[0m\u001B[0mself\u001B[0m\u001B[0;34m,\u001B[0m \u001B[0moriginal\u001B[0m\u001B[0;34m,\u001B[0m \u001B[0mtransferred\u001B[0m\u001B[0;34m)\u001B[0m\u001B[0;34m:\u001B[0m\u001B[0;34m\u001B[0m\u001B[0;34m\u001B[0m\u001B[0m\n\u001B[0;32m----> 8\u001B[0;31m         \u001B[0moriginal\u001B[0m \u001B[0;34m=\u001B[0m \u001B[0moriginal\u001B[0m\u001B[0;34m.\u001B[0m\u001B[0mreshape\u001B[0m\u001B[0;34m(\u001B[0m\u001B[0mbatch_size\u001B[0m\u001B[0;34m,\u001B[0m \u001B[0;34m-\u001B[0m\u001B[0;36m1\u001B[0m\u001B[0;34m)\u001B[0m\u001B[0;34m\u001B[0m\u001B[0;34m\u001B[0m\u001B[0m\n\u001B[0m\u001B[1;32m      9\u001B[0m         \u001B[0mtransferred\u001B[0m \u001B[0;34m=\u001B[0m \u001B[0mtransferred\u001B[0m\u001B[0;34m.\u001B[0m\u001B[0mreshape\u001B[0m\u001B[0;34m(\u001B[0m\u001B[0mbatch_size\u001B[0m\u001B[0;34m,\u001B[0m \u001B[0;34m-\u001B[0m\u001B[0;36m1\u001B[0m\u001B[0;34m)\u001B[0m\u001B[0;34m\u001B[0m\u001B[0;34m\u001B[0m\u001B[0m\n\u001B[1;32m     10\u001B[0m         \u001B[0;32mreturn\u001B[0m \u001B[0mself\u001B[0m\u001B[0;34m.\u001B[0m\u001B[0mneural_net\u001B[0m\u001B[0;34m(\u001B[0m\u001B[0minput_ids\u001B[0m\u001B[0;34m=\u001B[0m\u001B[0moriginal\u001B[0m\u001B[0;34m,\u001B[0m \u001B[0mlabels\u001B[0m\u001B[0;34m=\u001B[0m\u001B[0mtransferred\u001B[0m\u001B[0;34m)\u001B[0m\u001B[0;34m\u001B[0m\u001B[0;34m\u001B[0m\u001B[0m\n",
      "\u001B[0;31mRuntimeError\u001B[0m: shape '[32, -1]' is invalid for input of size 720"
     ]
    }
   ],
   "source": [
    "from pytorch_lightning import Trainer\n",
    "model = StyleTransferModel()\n",
    "module = FlickrDataModule()\n",
    "trainer = Trainer(max_epochs = 8)\n",
    "trainer.fit(model,module)"
   ],
   "metadata": {
    "collapsed": false,
    "pycharm": {
     "name": "#%%\n"
    }
   }
  },
  {
   "cell_type": "code",
   "execution_count": null,
   "outputs": [],
   "source": [],
   "metadata": {
    "collapsed": false,
    "pycharm": {
     "name": "#%%\n"
    }
   }
  }
 ],
 "metadata": {
  "kernelspec": {
   "display_name": "Python 3",
   "language": "python",
   "name": "python3"
  },
  "language_info": {
   "codemirror_mode": {
    "name": "ipython",
    "version": 2
   },
   "file_extension": ".py",
   "mimetype": "text/x-python",
   "name": "python",
   "nbconvert_exporter": "python",
   "pygments_lexer": "ipython2",
   "version": "2.7.6"
  }
 },
 "nbformat": 4,
 "nbformat_minor": 0
}