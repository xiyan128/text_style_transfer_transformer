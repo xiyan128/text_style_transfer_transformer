{
 "cells": [
  {
   "cell_type": "code",
   "execution_count": 24,
   "metadata": {
    "collapsed": true
   },
   "outputs": [],
   "source": [
    "import numpy as np\n",
    "import pandas as pd"
   ]
  },
  {
   "cell_type": "code",
   "execution_count": 34,
   "outputs": [],
   "source": [
    "root = \"../data/yelp\"\n",
    "prefixes = [\"dev\", \"reference\", \"test\", \"train\"]\n",
    "tags = [\"neg\", \"pos\"]\n",
    "def read_and_concat(tag):\n",
    "    dfs = [pd.read_csv(f\"{root}/{prefix}.{tag}\", sep=\"\\t\", header=None,) for prefix in prefixes]\n",
    "    df = pd.concat(dfs, axis=0)\n",
    "    tagsArr = np.repeat(tag, len(df))\n",
    "    return df.assign(tag=tagsArr)\n",
    "read_and_concat(\"neg\").to_csv(\"../data/yelp/neg.csv\", sep=\"\\t\", index=False)\n",
    "read_and_concat(\"pos\").to_csv(\"../data/yelp/pos.csv\", sep=\"\\t\", index=False)"
   ],
   "metadata": {
    "collapsed": false,
    "pycharm": {
     "name": "#%%\n"
    }
   }
  },
  {
   "cell_type": "code",
   "execution_count": null,
   "outputs": [],
   "source": [],
   "metadata": {
    "collapsed": false,
    "pycharm": {
     "name": "#%%\n"
    }
   }
  }
 ],
 "metadata": {
  "kernelspec": {
   "display_name": "Python 3",
   "language": "python",
   "name": "python3"
  },
  "language_info": {
   "codemirror_mode": {
    "name": "ipython",
    "version": 2
   },
   "file_extension": ".py",
   "mimetype": "text/x-python",
   "name": "python",
   "nbconvert_exporter": "python",
   "pygments_lexer": "ipython2",
   "version": "2.7.6"
  }
 },
 "nbformat": 4,
 "nbformat_minor": 0
}